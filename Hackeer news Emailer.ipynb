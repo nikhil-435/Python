{
 "cells": [
  {
   "cell_type": "code",
   "execution_count": 16,
   "id": "5a8df86f",
   "metadata": {},
   "outputs": [],
   "source": [
    "#importing required libraries\n",
    "import requests \n",
    "from bs4 import BeautifulSoup  #web scraping\n",
    "import smtplib  #used to send email\n",
    "from email.mime.multipart import MIMEMultipart\n",
    "from email.mime.text import MIMEText\n",
    "import datetime #system date and time"
   ]
  },
  {
   "cell_type": "code",
   "execution_count": 17,
   "id": "1bfdd6ae",
   "metadata": {},
   "outputs": [],
   "source": [
    "now = datetime.datetime.now() #to make sure the same email is not send everyday.We'll get a new mail everyday"
   ]
  },
  {
   "cell_type": "code",
   "execution_count": 18,
   "id": "e866d3db",
   "metadata": {},
   "outputs": [],
   "source": [
    "content = '' #empty string object for the email content"
   ]
  },
  {
   "cell_type": "code",
   "execution_count": 19,
   "id": "c30d6adf",
   "metadata": {},
   "outputs": [],
   "source": [
    "#We run a for loop to extract the title of the first 30 headlines.Towards the end we see that there i an option for 'More'\n",
    "#We write an if else statement to exclude that 'More' option\n",
    "\n",
    "def extract_news(url):\n",
    "    print('Extracting Hacker News Stories...')\n",
    "    cnt = ''\n",
    "    cnt += ('<b>HN Top Stories:</b>\\n'+'<br>'+'-'*50+'<br>')\n",
    "    response = requests.get(url)\n",
    "    content = response.content\n",
    "    soup = BeautifulSoup(content,'html.parser')\n",
    "    for i,tag in enumerate(soup.find_all('td',attrs={'class':'title','valign':''})):\n",
    "        cnt += ((str(i+1)+' --> '+tag.text + \"\\n\" + '<br>') if tag.text!='More' else '')\n",
    "        \n",
    "    return(cnt)"
   ]
  },
  {
   "cell_type": "code",
   "execution_count": 20,
   "id": "4121d6c7",
   "metadata": {},
   "outputs": [
    {
     "name": "stdout",
     "output_type": "stream",
     "text": [
      "Extracting Hacker News Stories...\n"
     ]
    }
   ],
   "source": [
    "#making the body of the mail\n",
    "cnt = extract_news('https://news.ycombinator.com/')\n",
    "content += cnt\n",
    "content += ('<br>-------<br>')\n",
    "content += ('<br><br>Thank You')\n",
    "content += ('<br><br>End of Message')"
   ]
  },
  {
   "cell_type": "code",
   "execution_count": 25,
   "id": "0243b4cb",
   "metadata": {},
   "outputs": [
    {
     "name": "stdout",
     "output_type": "stream",
     "text": [
      "Composing Email....\n"
     ]
    }
   ],
   "source": [
    "#Sending the email\n",
    "print('Composing Email....')\n",
    "\n",
    "#Email authentication\n",
    "SERVER = 'smtp.gmail.com'  #your smtp server\n",
    "PORT = 587 #port number for gmail\n",
    "FROM = 'nikhilmathew625@gmail.com' \n",
    "TO = 'rsrohansharma42@gmail.com'\n",
    "PASS = 'nikhil2000'"
   ]
  },
  {
   "cell_type": "code",
   "execution_count": 26,
   "id": "b305f422",
   "metadata": {},
   "outputs": [],
   "source": [
    "#Creating the mail body\n",
    "msg = MIMEMultipart()\n",
    "msg['Subject'] = 'Top News Stories Hacker News [Automated Email]'+''+str(now.day) + '-'+ str(now.month)+ '-' +str(now.year)\n",
    "msg['From'] = FROM\n",
    "msg['To'] = TO\n",
    "msg.attach(MIMEText(content, 'html'))"
   ]
  },
  {
   "cell_type": "code",
   "execution_count": 27,
   "id": "d82047e7",
   "metadata": {},
   "outputs": [
    {
     "name": "stdout",
     "output_type": "stream",
     "text": [
      "Initiating Server....\n"
     ]
    },
    {
     "name": "stderr",
     "output_type": "stream",
     "text": [
      "send: 'ehlo [192.168.3.27]\\r\\n'\n",
      "reply: b'250-smtp.gmail.com at your service, [27.106.101.187]\\r\\n'\n",
      "reply: b'250-SIZE 35882577\\r\\n'\n",
      "reply: b'250-8BITMIME\\r\\n'\n",
      "reply: b'250-STARTTLS\\r\\n'\n",
      "reply: b'250-ENHANCEDSTATUSCODES\\r\\n'\n",
      "reply: b'250-PIPELINING\\r\\n'\n",
      "reply: b'250-CHUNKING\\r\\n'\n",
      "reply: b'250 SMTPUTF8\\r\\n'\n",
      "reply: retcode (250); Msg: b'smtp.gmail.com at your service, [27.106.101.187]\\nSIZE 35882577\\n8BITMIME\\nSTARTTLS\\nENHANCEDSTATUSCODES\\nPIPELINING\\nCHUNKING\\nSMTPUTF8'\n",
      "send: 'STARTTLS\\r\\n'\n",
      "reply: b'220 2.0.0 Ready to start TLS\\r\\n'\n",
      "reply: retcode (220); Msg: b'2.0.0 Ready to start TLS'\n",
      "send: 'ehlo [192.168.3.27]\\r\\n'\n",
      "reply: b'250-smtp.gmail.com at your service, [27.106.101.187]\\r\\n'\n",
      "reply: b'250-SIZE 35882577\\r\\n'\n",
      "reply: b'250-8BITMIME\\r\\n'\n",
      "reply: b'250-AUTH LOGIN PLAIN XOAUTH2 PLAIN-CLIENTTOKEN OAUTHBEARER XOAUTH\\r\\n'\n",
      "reply: b'250-ENHANCEDSTATUSCODES\\r\\n'\n",
      "reply: b'250-PIPELINING\\r\\n'\n",
      "reply: b'250-CHUNKING\\r\\n'\n",
      "reply: b'250 SMTPUTF8\\r\\n'\n",
      "reply: retcode (250); Msg: b'smtp.gmail.com at your service, [27.106.101.187]\\nSIZE 35882577\\n8BITMIME\\nAUTH LOGIN PLAIN XOAUTH2 PLAIN-CLIENTTOKEN OAUTHBEARER XOAUTH\\nENHANCEDSTATUSCODES\\nPIPELINING\\nCHUNKING\\nSMTPUTF8'\n",
      "send: 'AUTH PLAIN AG5pa2hpbG1hdGhldzYyNUBnbWFpbC5jb20AbmlraGlsMjAwMA==\\r\\n'\n",
      "reply: b'235 2.7.0 Accepted\\r\\n'\n",
      "reply: retcode (235); Msg: b'2.7.0 Accepted'\n",
      "send: 'mail FROM:<nikhilmathew625@gmail.com> size=3494\\r\\n'\n",
      "reply: b'250 2.1.0 OK s5sm3545577pgq.62 - gsmtp\\r\\n'\n",
      "reply: retcode (250); Msg: b'2.1.0 OK s5sm3545577pgq.62 - gsmtp'\n",
      "send: 'rcpt TO:<rsrohansharma42@gmail.com>\\r\\n'\n",
      "reply: b'250 2.1.5 OK s5sm3545577pgq.62 - gsmtp\\r\\n'\n",
      "reply: retcode (250); Msg: b'2.1.5 OK s5sm3545577pgq.62 - gsmtp'\n",
      "send: 'data\\r\\n'\n",
      "reply: b'354  Go ahead s5sm3545577pgq.62 - gsmtp\\r\\n'\n",
      "reply: retcode (354); Msg: b'Go ahead s5sm3545577pgq.62 - gsmtp'\n",
      "data: (354, b'Go ahead s5sm3545577pgq.62 - gsmtp')\n",
      "send: b'Content-Type: multipart/mixed; boundary=\"===============1832175679966572942==\"\\r\\nMIME-Version: 1.0\\r\\nSubject: Top News Stories Hacker News [Automated Email]21-11-2021\\r\\nFrom: nikhilmathew625@gmail.com\\r\\nTo: rsrohansharma42@gmail.com\\r\\n\\r\\n--===============1832175679966572942==\\r\\nContent-Type: text/html; charset=\"utf-8\"\\r\\nMIME-Version: 1.0\\r\\nContent-Transfer-Encoding: base64\\r\\n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\\r\\nayBZb3U8YnI+PGJyPkVuZCBvZiBNZXNzYWdl\\r\\n\\r\\n--===============1832175679966572942==--\\r\\n.\\r\\n'\n",
      "reply: b'250 2.0.0 OK  1637493448 s5sm3545577pgq.62 - gsmtp\\r\\n'\n",
      "reply: retcode (250); Msg: b'2.0.0 OK  1637493448 s5sm3545577pgq.62 - gsmtp'\n",
      "data: (250, b'2.0.0 OK  1637493448 s5sm3545577pgq.62 - gsmtp')\n",
      "send: 'quit\\r\\n'\n"
     ]
    },
    {
     "name": "stdout",
     "output_type": "stream",
     "text": [
      "Email sent\n"
     ]
    },
    {
     "name": "stderr",
     "output_type": "stream",
     "text": [
      "reply: b'221 2.0.0 closing connection s5sm3545577pgq.62 - gsmtp\\r\\n'\n",
      "reply: retcode (221); Msg: b'2.0.0 closing connection s5sm3545577pgq.62 - gsmtp'\n"
     ]
    },
    {
     "data": {
      "text/plain": [
       "(221, b'2.0.0 closing connection s5sm3545577pgq.62 - gsmtp')"
      ]
     },
     "execution_count": 27,
     "metadata": {},
     "output_type": "execute_result"
    }
   ],
   "source": [
    "print('Initiating Server....')\n",
    "server = smtplib.SMTP(SERVER, PORT)\n",
    "server.set_debuglevel(1)  #if there is an error in authentication and you want it to be displaye use this. 1 for display error. 0 fo not display error\n",
    "server.ehlo()\n",
    "server.starttls() #secure connection\n",
    "server.login(FROM, PASS)\n",
    "server.sendmail(FROM, TO, msg.as_string())\n",
    "\n",
    "print('Email sent')\n",
    "server.quit() "
   ]
  },
  {
   "cell_type": "code",
   "execution_count": 28,
   "id": "d2346939",
   "metadata": {},
   "outputs": [
    {
     "data": {
      "text/plain": [
       "\"<b>HN Top Stories:</b>\\n<br>--------------------------------------------------<br>1 --> Advent of Code 2021 (adventofcode.com)\\n<br>2 --> Upgrading the soldered-on RAM of a Dell XPS13 7390 laptop (gregdavill.github.io)\\n<br>3 --> Campbell's Law: The dark side of metric fixation (nngroup.com)\\n<br>4 --> How to programmatically find out if computer is on (haiku-os.org)\\n<br>5 --> Tracking Crucial Metrics of Earth's Global Warming (climatechangetracker.org)\\n<br>6 --> LLVM relicensing update and call for help (llvm.org)\\n<br>7 --> ChaosDB Explained: Azure's Cosmos DB Vulnerability Walkthrough (wiz.io)\\n<br>8 --> The million-dollar drug (2018) (cbc.ca)\\n<br>9 --> PDP-11/40 (a.k.a. 11/35) emulator for various microcontrollers (gitlab.com/chloelunn)\\n<br>10 --> Bring Back Our Knobs: Analog vs. Digital (2009) (popularmechanics.com)\\n<br>11 --> Sociotechnical Lenses into Software Systems (paulosman.me)\\n<br>12 --> JEdit – Programmer's Text Editor (jedit.org)\\n<br>13 --> MacPaint and MacWrite First Public Demo (1984) [video] (youtube.com)\\n<br>14 --> Raycast (YC W20) Is Hiring macOS Engineers to Geek Out on UI (Remote in Europe) (raycast.com)\\n<br>15 --> Discover Slitaz, a 50MB Lightweight Desktop Operating System (ubuntubuzz.com)\\n<br>16 --> Lagrange: A desktop GUI client for Gemini (github.com/skyjake)\\n<br>17 --> What Hot Dogs Can Teach Us About Number Theory (quantamagazine.org)\\n<br>18 --> Analysis of the Cosmos 1408 Breakup (leolabs-space.medium.com)\\n<br>19 --> Ask HN: Why does cryptocurrency subjects on HN lack curious conversations?\\n<br>20 --> Yara Birkeland, the World’s First Autonomous and Emission-Free Containership (gcaptain.com)\\n<br>21 --> Preventing Timing Attacks on String Comparison with Double HMAC Strategy (2015) (paragonie.com)\\n<br>22 --> An Introduction to Lagrange Multipliers (slimy.com)\\n<br>23 --> The Deep Sea (neal.fun)\\n<br>24 --> What it's like to ride 900 km in a day (cyclingtips.com)\\n<br>25 --> The history of Berkeley DB (acm.org)\\n<br>26 --> Maxima (Software) (wikipedia.org)\\n<br>27 --> Cocoa Text System (hcs.harvard.edu)\\n<br>28 --> HTTP Message Signatures (httpwg.org)\\n<br>29 --> Slime (granta.com)\\n<br>30 --> Oil 0.9.4 – User Feedback (oilshell.org)\\n<br>\""
      ]
     },
     "execution_count": 28,
     "metadata": {},
     "output_type": "execute_result"
    }
   ],
   "source": [
    "cnt"
   ]
  },
  {
   "cell_type": "code",
   "execution_count": null,
   "id": "5c73a751",
   "metadata": {},
   "outputs": [],
   "source": []
  },
  {
   "cell_type": "code",
   "execution_count": null,
   "id": "84bde20b",
   "metadata": {},
   "outputs": [],
   "source": []
  }
 ],
 "metadata": {
  "kernelspec": {
   "display_name": "Python 3",
   "language": "python",
   "name": "python3"
  },
  "language_info": {
   "codemirror_mode": {
    "name": "ipython",
    "version": 3
   },
   "file_extension": ".py",
   "mimetype": "text/x-python",
   "name": "python",
   "nbconvert_exporter": "python",
   "pygments_lexer": "ipython3",
   "version": "3.8.8"
  }
 },
 "nbformat": 4,
 "nbformat_minor": 5
}
