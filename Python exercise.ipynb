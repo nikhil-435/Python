{
 "cells": [
  {
   "cell_type": "markdown",
   "id": "d8cd9714",
   "metadata": {},
   "source": [
    "# 1.     Write a Python program to remove spaces from a given string."
   ]
  },
  {
   "cell_type": "code",
   "execution_count": 18,
   "id": "fc9156fd",
   "metadata": {},
   "outputs": [
    {
     "data": {
      "text/plain": [
       "'Python assignment'"
      ]
     },
     "execution_count": 18,
     "metadata": {},
     "output_type": "execute_result"
    }
   ],
   "source": [
    "str1 = \"  Python assignment\"\n",
    "str1.strip(\" \")"
   ]
  },
  {
   "cell_type": "markdown",
   "id": "55f031b0",
   "metadata": {},
   "source": [
    "# 2.     Write a function which accepts a string and returns only the last word of the sentence."
   ]
  },
  {
   "cell_type": "code",
   "execution_count": 16,
   "id": "a79e0c78",
   "metadata": {},
   "outputs": [],
   "source": [
    "str2 = \"We have finished our class\"\n",
    "str3 = str2.split(\" \")"
   ]
  },
  {
   "cell_type": "code",
   "execution_count": 17,
   "id": "b2208ba3",
   "metadata": {},
   "outputs": [
    {
     "data": {
      "text/plain": [
       "'class'"
      ]
     },
     "execution_count": 17,
     "metadata": {},
     "output_type": "execute_result"
    }
   ],
   "source": [
    "str3[-1]"
   ]
  },
  {
   "cell_type": "markdown",
   "id": "5cd90959",
   "metadata": {},
   "source": [
    "# 3.     Fetch top 3 items from the given dictionary based on its value"
   ]
  },
  {
   "cell_type": "code",
   "execution_count": 42,
   "id": "6c46a491",
   "metadata": {},
   "outputs": [],
   "source": [
    "sample = {'item1': 45.50, 'item2':35, 'item3': 41.30, 'item4':55, 'item5': 24}\n",
    "        "
   ]
  },
  {
   "cell_type": "markdown",
   "id": "04919794",
   "metadata": {},
   "source": [
    "# 4.     Write a python program to combine two dictionary adding values for common keys"
   ]
  },
  {
   "cell_type": "code",
   "execution_count": 25,
   "id": "1a197a64",
   "metadata": {},
   "outputs": [],
   "source": [
    "d1 = {'a': 100, 'b': 200, 'c':300}\n",
    "d2 = {'a': 300, 'b': 200, 'd':400}"
   ]
  },
  {
   "cell_type": "code",
   "execution_count": 29,
   "id": "56326d53",
   "metadata": {},
   "outputs": [
    {
     "name": "stdout",
     "output_type": "stream",
     "text": [
      "{'a': 400, 'b': 400, 'c': 300}\n"
     ]
    }
   ],
   "source": [
    "for key in d1:\n",
    "    if key in d2:\n",
    "        d2[key] = d1[key] + d2[key]\n",
    "    else:\n",
    "        d2[key] = d1[key]\n",
    "        \n",
    "print(d1)\n",
    "    "
   ]
  },
  {
   "cell_type": "markdown",
   "id": "c180df6d",
   "metadata": {},
   "source": [
    "# 5.     Write a Python program to extract specified size of strings from a give list of string values"
   ]
  },
  {
   "cell_type": "code",
   "execution_count": 82,
   "id": "601dcd81",
   "metadata": {},
   "outputs": [],
   "source": [
    "list1 = ['Python', 'List', 'Exercises', 'Practice', 'Solution']"
   ]
  }
 ],
 "metadata": {
  "kernelspec": {
   "display_name": "Python 3",
   "language": "python",
   "name": "python3"
  },
  "language_info": {
   "codemirror_mode": {
    "name": "ipython",
    "version": 3
   },
   "file_extension": ".py",
   "mimetype": "text/x-python",
   "name": "python",
   "nbconvert_exporter": "python",
   "pygments_lexer": "ipython3",
   "version": "3.8.8"
  }
 },
 "nbformat": 4,
 "nbformat_minor": 5
}
