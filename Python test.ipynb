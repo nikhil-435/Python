{
 "cells": [
  {
   "cell_type": "markdown",
   "id": "0bc68f1a",
   "metadata": {},
   "source": [
    "# 1. Given below are a list of positive and negative words. Also a list of comments is provided. Segregate the comments based on positive and negative sentiments."
   ]
  },
  {
   "cell_type": "code",
   "execution_count": 1,
   "id": "01d85529",
   "metadata": {},
   "outputs": [],
   "source": [
    "positive = ['good','awesome', 'best', 'nice']  #list of positive words\n",
    "negative = ['worst','awful']  #list of negative words\n",
    "comments = ['He is a good boy',                 ## c for comment\n",
    "'Food is the worst here',\n",
    "'He is an awesome player',\n",
    "'She is the best',\n",
    "'This pizza tastes awful',\n",
    "'These burger are really nice']\n",
    "\n",
    "positive_comments = []  #empty list of positive comments\n",
    "negative_comments = []  #empty list of negative comments\n",
    "\n",
    "for i in comments:\n",
    "    for j in positive:\n",
    "        if j in i :\n",
    "            positive_comments.append(i)\n",
    "    for j in negative:\n",
    "        if j in i:\n",
    "            negative_comments.append(i)"
   ]
  },
  {
   "cell_type": "code",
   "execution_count": 2,
   "id": "b310956c",
   "metadata": {},
   "outputs": [
    {
     "name": "stdout",
     "output_type": "stream",
     "text": [
      "Positive comments :  ['He is a good boy', 'He is an awesome player', 'She is the best', 'These burger are really nice']\n",
      "Negative comments :  ['Food is the worst here', 'This pizza tastes awful']\n"
     ]
    }
   ],
   "source": [
    "print(\"Positive comments : \",positive_comments)\n",
    "print(\"Negative comments : \",negative_comments)"
   ]
  },
  {
   "cell_type": "markdown",
   "id": "49f2467a",
   "metadata": {},
   "source": [
    "# 2. Create a dictionary containing three lambda functions square, cube and square root. Pass the values (input from the user)to the functions in the dictionary respectively. Then add the outputs of each function and print it."
   ]
  },
  {
   "cell_type": "code",
   "execution_count": null,
   "id": "0d47ac52",
   "metadata": {},
   "outputs": [],
   "source": [
    "n = int(input(\"Enter a number: \"))\n",
    "def add(n):\n",
    "    d = { 'Square' : lambda : a**2,\n",
    "        'Cube' : lambda : a**3,\n",
    "        'Square root' : lambda : a**(1/2)}\n",
    "    sum = 0\n",
    "    for key in d.keys():\n",
    "        sum += d[key](n)\n",
    "    return sum\n",
    "print('\\033[1m'+\"total of square, cube & sqroot:\",addi(n))"
   ]
  },
  {
   "cell_type": "markdown",
   "id": "3ed7537c",
   "metadata": {},
   "source": [
    "# 3. Find the fruits that are sour in taste from the tuple given below."
   ]
  },
  {
   "cell_type": "code",
   "execution_count": 2,
   "id": "5156bf2c",
   "metadata": {},
   "outputs": [
    {
     "name": "stdout",
     "output_type": "stream",
     "text": [
      "Sour Fruits:  ['Lemon', 'Grapes', 'Kiwi', 'Orange', 'Limes']\n"
     ]
    }
   ],
   "source": [
    "fruits = (('Lemon','sour'),\n",
    "('DragonFruit', 'Sweet'),\n",
    "('Grapes','soUr'),\n",
    "('Kiwi','Sour'),\n",
    "('Apples','sweet'),\n",
    "('Orange','sour'),\n",
    "('Blueberries','sweet'),\n",
    "('Limes','Sour')\n",
    ")\n",
    "\n",
    "sour_fruits = []\n",
    "for i in fruits:\n",
    "    if i[1] in ['Sour','sour','soUr']:\n",
    "        sour_fruits.append(i[0])\n",
    "        \n",
    "print(\"Sour Fruits: \",sour_fruits)"
   ]
  },
  {
   "cell_type": "markdown",
   "id": "7bdea190",
   "metadata": {},
   "source": [
    "# 4. A list of words is given. Find the words from the list that have their second character in uppercase."
   ]
  },
  {
   "cell_type": "code",
   "execution_count": 3,
   "id": "9a2e6a66",
   "metadata": {},
   "outputs": [
    {
     "name": "stdout",
     "output_type": "stream",
     "text": [
      "Words with second character uppercase : ['hOw', 'ARe']\n"
     ]
    }
   ],
   "source": [
    "ls = ['hello', 'Dear', 'hOw', 'ARe', 'You']\n",
    "ls_upper = [i for i in ls if i[1].isupper()]\n",
    "print(\"Words with second character uppercase :\",ls_upper)"
   ]
  },
  {
   "cell_type": "markdown",
   "id": "30387894",
   "metadata": {},
   "source": [
    "# 5. A dictionary of names and their weights on earth is given. Find how much they will weigh on the moon. (Use map and lambda functions)"
   ]
  },
  {
   "cell_type": "code",
   "execution_count": 4,
   "id": "8206492a",
   "metadata": {},
   "outputs": [
    {
     "data": {
      "text/plain": [
       "{'John': 7.44, 'Shelly': 10.75, 'Marry': 5.79}"
      ]
     },
     "execution_count": 4,
     "metadata": {},
     "output_type": "execute_result"
    }
   ],
   "source": [
    "WeightOnEarth = {'John':45, 'Shelly':65, 'Marry':35}\n",
    "GMoon = 1.622\n",
    "GEarth = 9.81\n",
    "dict(map(lambda x : (x, round((WeightOnEarth[x]/GEarth)*GMoon, 2)), WeightOnEarth))"
   ]
  },
  {
   "cell_type": "markdown",
   "id": "ddf9706d",
   "metadata": {},
   "source": [
    "# 6. Write a program to fetch the words from the given list which have their first character in uppercase"
   ]
  },
  {
   "cell_type": "code",
   "execution_count": 5,
   "id": "e56d718b",
   "metadata": {},
   "outputs": [
    {
     "name": "stdout",
     "output_type": "stream",
     "text": [
      "first character in uppercase: ['Maria', 'World', 'You', 'Hello', 'Merry']\n"
     ]
    }
   ],
   "source": [
    "namesList = ['santa Maria', 'Hello World','Merry christmas', 'tHank You']\n",
    "a=[i.split(' ')[0] for i in namesList]\n",
    "b=[i.split(' ')[1] for i in namesList]\n",
    "l2=[ x for x in b if x[0].isupper()]  \n",
    "l1=[ x for x in a if x[0].isupper()]\n",
    "l3=l2+l1\n",
    "print('first character in uppercase:',l3)"
   ]
  },
  {
   "cell_type": "markdown",
   "id": "6708f1fe",
   "metadata": {},
   "source": [
    "# 7. A list containing multiple lists is given. Convert each inner list into sets and find the intersection of all the sets."
   ]
  },
  {
   "cell_type": "code",
   "execution_count": 6,
   "id": "0e01fec9",
   "metadata": {},
   "outputs": [
    {
     "name": "stdout",
     "output_type": "stream",
     "text": [
      "{8, 3}\n"
     ]
    }
   ],
   "source": [
    "a = [[1, 2, 3, 4, 8], [2, 3, 8, 5, 6], [8, 4, 5, 3, 7], [6, 9, 8, 3], [9,\n",
    "12, 3, 7, 6, 8, 4, 6, 21, 1, 6]]\n",
    "res = [set(ele) for ele in a]\n",
    "print(res[0].intersection(*res))"
   ]
  },
  {
   "cell_type": "markdown",
   "id": "fcab9896",
   "metadata": {},
   "source": [
    "# 8. Find the cumulative average of the list [9,8,7,6,5] using accumulate() and lambda function."
   ]
  },
  {
   "cell_type": "code",
   "execution_count": 7,
   "id": "0cf0f9fc",
   "metadata": {},
   "outputs": [
    {
     "name": "stdout",
     "output_type": "stream",
     "text": [
      "cumulative average: [9, 8.5, 8.0, 7.5, 7.0]\n"
     ]
    }
   ],
   "source": [
    "a= [9,8,7,6,5]\n",
    "import itertools as it\n",
    "l=[]\n",
    "l = it.accumulate(list(enumerate(a)), lambda x,y: (y[0], (x[1]*(x[0]+1) + y[1])/(y[0]+1)))    ##using enumerate\n",
    "print('cumulative average:',list(map(lambda x: x[1], l)))"
   ]
  },
  {
   "cell_type": "markdown",
   "id": "a8aaa26a",
   "metadata": {},
   "source": [
    "# 9.A list of words is given. Convert the words into uppercase. Use lambda and map functions"
   ]
  },
  {
   "cell_type": "code",
   "execution_count": 9,
   "id": "81c62596",
   "metadata": {},
   "outputs": [
    {
     "data": {
      "text/plain": [
       "['TRUE', 'FALSE', 'TRUE', 'TRUE', 'FALSE', 'FALSE']"
      ]
     },
     "execution_count": 9,
     "metadata": {},
     "output_type": "execute_result"
    }
   ],
   "source": [
    "lsbool = ['True','FALse','tRUe','tRue','False','faLse']\n",
    "out = map(lambda x:x.upper(), lsbool)    ## making it upper case\n",
    "output = list(out)\n",
    "output"
   ]
  },
  {
   "cell_type": "markdown",
   "id": "38b776c4",
   "metadata": {},
   "source": [
    "# 10. A list of dates (dd-mm-yyyy)in the form of string is given below. Create a new list that stores years i.e. the 'yyyy' part from the dates in the given list"
   ]
  },
  {
   "cell_type": "code",
   "execution_count": 11,
   "id": "e4a5d752",
   "metadata": {},
   "outputs": [
    {
     "name": "stdout",
     "output_type": "stream",
     "text": [
      "years: ['1997', '2011', '1993', '2020']\n"
     ]
    }
   ],
   "source": [
    "a=[]\n",
    "datesList = ['17-12-1997','22-04-2011','01-05-1993','19-06-2020']\n",
    "for i in datesList:\n",
    "    a.append(i[6:])          ## extracting only the year \n",
    "print(\"years:\",a)"
   ]
  },
  {
   "cell_type": "code",
   "execution_count": null,
   "id": "1fd9349e",
   "metadata": {},
   "outputs": [],
   "source": []
  }
 ],
 "metadata": {
  "kernelspec": {
   "display_name": "Python 3",
   "language": "python",
   "name": "python3"
  },
  "language_info": {
   "codemirror_mode": {
    "name": "ipython",
    "version": 3
   },
   "file_extension": ".py",
   "mimetype": "text/x-python",
   "name": "python",
   "nbconvert_exporter": "python",
   "pygments_lexer": "ipython3",
   "version": "3.8.8"
  }
 },
 "nbformat": 4,
 "nbformat_minor": 5
}
